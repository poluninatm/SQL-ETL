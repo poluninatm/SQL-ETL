{
 "cells": [
  {
   "cell_type": "code",
   "execution_count": 119,
   "metadata": {},
   "outputs": [],
   "source": [
    "import numpy as np\n",
    "import pandas as pd\n",
    "import matplotlib.pyplot as plt\n",
    "from sklearn import linear_model \n",
    "%matplotlib inline\n",
    "pd.options.mode.chained_assignment = None"
   ]
  },
  {
   "cell_type": "code",
   "execution_count": 120,
   "metadata": {},
   "outputs": [],
   "source": [
    "my_data = pd.read_csv('./orders_20190822.csv', sep=\";\", decimal=',')\n"
   ]
  },
  {
   "cell_type": "code",
   "execution_count": 121,
   "metadata": {},
   "outputs": [
    {
     "name": "stdout",
     "output_type": "stream",
     "text": [
      "<class 'pandas.core.frame.DataFrame'>\n",
      "RangeIndex: 2002804 entries, 0 to 2002803\n",
      "Data columns (total 4 columns):\n",
      "id_o       int64\n",
      "user_id    int64\n",
      "price      float64\n",
      "o_date     datetime64[ns]\n",
      "dtypes: datetime64[ns](1), float64(1), int64(2)\n",
      "memory usage: 61.1 MB\n"
     ]
    }
   ],
   "source": [
    "my_data[\"o_date\"]=pd.to_datetime(my_data[\"o_date\"], format='%d.%m.%Y')\n",
    "my_data.info()"
   ]
  },
  {
   "cell_type": "code",
   "execution_count": 122,
   "metadata": {},
   "outputs": [
    {
     "data": {
      "text/plain": [
       "True"
      ]
     },
     "execution_count": 122,
     "metadata": {},
     "output_type": "execute_result"
    }
   ],
   "source": [
    "len(my_data.id_o.unique())== len(my_data.id_o)"
   ]
  },
  {
   "cell_type": "code",
   "execution_count": 123,
   "metadata": {},
   "outputs": [
    {
     "name": "stdout",
     "output_type": "stream",
     "text": [
      "<class 'pandas.core.frame.DataFrame'>\n",
      "Int64Index: 1970296 entries, 0 to 2002803\n",
      "Data columns (total 4 columns):\n",
      "id_o       int64\n",
      "user_id    int64\n",
      "price      float64\n",
      "o_date     datetime64[ns]\n",
      "dtypes: datetime64[ns](1), float64(1), int64(2)\n",
      "memory usage: 75.2 MB\n"
     ]
    }
   ],
   "source": [
    "my_data_filtered=my_data[(my_data.price>150) & (my_data.price<=100000)]\n",
    "my_data_filtered.info()"
   ]
  },
  {
   "cell_type": "code",
   "execution_count": 124,
   "metadata": {},
   "outputs": [
    {
     "data": {
      "text/html": [
       "<div>\n",
       "<style scoped>\n",
       "    .dataframe tbody tr th:only-of-type {\n",
       "        vertical-align: middle;\n",
       "    }\n",
       "\n",
       "    .dataframe tbody tr th {\n",
       "        vertical-align: top;\n",
       "    }\n",
       "\n",
       "    .dataframe thead th {\n",
       "        text-align: right;\n",
       "    }\n",
       "</style>\n",
       "<table border=\"1\" class=\"dataframe\">\n",
       "  <thead>\n",
       "    <tr style=\"text-align: right;\">\n",
       "      <th></th>\n",
       "      <th>id_o</th>\n",
       "      <th>user_id</th>\n",
       "      <th>price</th>\n",
       "      <th>o_date</th>\n",
       "      <th>year</th>\n",
       "      <th>month</th>\n",
       "    </tr>\n",
       "  </thead>\n",
       "  <tbody>\n",
       "    <tr>\n",
       "      <th>0</th>\n",
       "      <td>1234491</td>\n",
       "      <td>337544</td>\n",
       "      <td>539.0</td>\n",
       "      <td>2016-01-01</td>\n",
       "      <td>2016</td>\n",
       "      <td>1</td>\n",
       "    </tr>\n",
       "    <tr>\n",
       "      <th>1</th>\n",
       "      <td>1234494</td>\n",
       "      <td>171642</td>\n",
       "      <td>153.3</td>\n",
       "      <td>2016-01-01</td>\n",
       "      <td>2016</td>\n",
       "      <td>1</td>\n",
       "    </tr>\n",
       "    <tr>\n",
       "      <th>3</th>\n",
       "      <td>1234498</td>\n",
       "      <td>1105609</td>\n",
       "      <td>752.5</td>\n",
       "      <td>2016-01-01</td>\n",
       "      <td>2016</td>\n",
       "      <td>1</td>\n",
       "    </tr>\n",
       "    <tr>\n",
       "      <th>4</th>\n",
       "      <td>1234500</td>\n",
       "      <td>982696</td>\n",
       "      <td>4410.0</td>\n",
       "      <td>2016-01-01</td>\n",
       "      <td>2016</td>\n",
       "      <td>1</td>\n",
       "    </tr>\n",
       "    <tr>\n",
       "      <th>5</th>\n",
       "      <td>1234503</td>\n",
       "      <td>1105614</td>\n",
       "      <td>595.0</td>\n",
       "      <td>2016-01-01</td>\n",
       "      <td>2016</td>\n",
       "      <td>1</td>\n",
       "    </tr>\n",
       "  </tbody>\n",
       "</table>\n",
       "</div>"
      ],
      "text/plain": [
       "      id_o  user_id   price     o_date  year  month\n",
       "0  1234491   337544   539.0 2016-01-01  2016      1\n",
       "1  1234494   171642   153.3 2016-01-01  2016      1\n",
       "3  1234498  1105609   752.5 2016-01-01  2016      1\n",
       "4  1234500   982696  4410.0 2016-01-01  2016      1\n",
       "5  1234503  1105614   595.0 2016-01-01  2016      1"
      ]
     },
     "execution_count": 124,
     "metadata": {},
     "output_type": "execute_result"
    }
   ],
   "source": [
    "my_data_filtered[\"year\"]=pd.DatetimeIndex(my_data_filtered[\"o_date\"]).year\n",
    "my_data_filtered[\"month\"]=pd.DatetimeIndex(my_data_filtered[\"o_date\"]).month\n",
    "my_data_filtered.head()"
   ]
  },
  {
   "cell_type": "code",
   "execution_count": 237,
   "metadata": {
    "scrolled": false
   },
   "outputs": [
    {
     "data": {
      "text/plain": [
       "<matplotlib.axes._subplots.AxesSubplot at 0x141be6a90>"
      ]
     },
     "execution_count": 237,
     "metadata": {},
     "output_type": "execute_result"
    },
    {
     "data": {
      "image/png": "[encoded data removed]",
      "text/plain": [
       "<Figure size 432x288 with 1 Axes>"
      ]
     },
     "metadata": {
      "needs_background": "light"
     },
     "output_type": "display_data"
    }
   ],
   "source": [
    "price_by_months=my_data_filtered.loc[:, [\"price\", \"year\", \"month\"]].groupby([\"year\",\"month\"]).sum()\n",
    "price_by_months[\"price\"]=price_by_months[\"price\"].round()\n",
    "price_by_months=pd.DataFrame(price_by_months.to_records())\n",
    "price_by_months.plot()"
   ]
  },
  {
   "cell_type": "code",
   "execution_count": 150,
   "metadata": {},
   "outputs": [],
   "source": [
    "price_by_months[\"index\"]=range(1, len(price_by_months)+1)"
   ]
  },
  {
   "cell_type": "code",
   "execution_count": 152,
   "metadata": {},
   "outputs": [
    {
     "data": {
      "text/plain": [
       "LinearRegression(copy_X=True, fit_intercept=True, n_jobs=None,\n",
       "         normalize=False)"
      ]
     },
     "execution_count": 152,
     "metadata": {},
     "output_type": "execute_result"
    }
   ],
   "source": [
    "regr = linear_model.LinearRegression()\n",
    "x=np.array(price_by_months[\"index\"]).reshape(len(price_by_months), 1)\n",
    "y=np.array(price_by_months[\"price\"]).reshape(len(price_by_months), 1)\n",
    "regr.fit(x, y)"
   ]
  },
  {
   "cell_type": "code",
   "execution_count": 153,
   "metadata": {},
   "outputs": [
    {
     "data": {
      "image/png": "[encoded data removed]",
      "text/plain": [
       "<Figure size 432x288 with 1 Axes>"
      ]
     },
     "metadata": {},
     "output_type": "display_data"
    }
   ],
   "source": [
    "plt.scatter(x, y,  color='black')\n",
    "plt.plot(x, regr.predict(x), color='blue', linewidth=3)\n",
    "plt.xticks(())\n",
    "plt.yticks(())\n",
    "plt.show()"
   ]
  },
  {
   "cell_type": "code",
   "execution_count": 164,
   "metadata": {},
   "outputs": [
    {
     "data": {
      "text/plain": [
       "deviation    1.00168\n",
       "dtype: float64"
      ]
     },
     "execution_count": 164,
     "metadata": {},
     "output_type": "execute_result"
    }
   ],
   "source": [
    "price_by_months[\"trend\"]=regr.predict(x)\n",
    "price_by_months[\"deviation\"]=price_by_months[\"price\"]/price_by_months[\"trend\"]\n",
    "\n",
    "month_deviation=price_by_months.loc[:, [\"month\", \"deviation\"]].groupby(\"month\").mean()\n",
    "common_deviation = month_deviation.mean()\n",
    "common_deviation"
   ]
  },
  {
   "cell_type": "code",
   "execution_count": 186,
   "metadata": {},
   "outputs": [
    {
     "data": {
      "text/html": [
       "<div>\n",
       "<style scoped>\n",
       "    .dataframe tbody tr th:only-of-type {\n",
       "        vertical-align: middle;\n",
       "    }\n",
       "\n",
       "    .dataframe tbody tr th {\n",
       "        vertical-align: top;\n",
       "    }\n",
       "\n",
       "    .dataframe thead th {\n",
       "        text-align: right;\n",
       "    }\n",
       "</style>\n",
       "<table border=\"1\" class=\"dataframe\">\n",
       "  <thead>\n",
       "    <tr style=\"text-align: right;\">\n",
       "      <th></th>\n",
       "      <th>deviation</th>\n",
       "    </tr>\n",
       "    <tr>\n",
       "      <th>month</th>\n",
       "      <th></th>\n",
       "    </tr>\n",
       "  </thead>\n",
       "  <tbody>\n",
       "    <tr>\n",
       "      <th>1</th>\n",
       "      <td>0.981557</td>\n",
       "    </tr>\n",
       "    <tr>\n",
       "      <th>2</th>\n",
       "      <td>0.871994</td>\n",
       "    </tr>\n",
       "    <tr>\n",
       "      <th>3</th>\n",
       "      <td>1.038758</td>\n",
       "    </tr>\n",
       "    <tr>\n",
       "      <th>4</th>\n",
       "      <td>1.043108</td>\n",
       "    </tr>\n",
       "    <tr>\n",
       "      <th>5</th>\n",
       "      <td>0.908183</td>\n",
       "    </tr>\n",
       "  </tbody>\n",
       "</table>\n",
       "</div>"
      ],
      "text/plain": [
       "       deviation\n",
       "month           \n",
       "1       0.981557\n",
       "2       0.871994\n",
       "3       1.038758\n",
       "4       1.043108\n",
       "5       0.908183"
      ]
     },
     "execution_count": 186,
     "metadata": {},
     "output_type": "execute_result"
    }
   ],
   "source": [
    "seazon_coeff = month_deviation/common_deviation\n",
    "seazon_coeff.head()\n"
   ]
  },
  {
   "cell_type": "code",
   "execution_count": 182,
   "metadata": {},
   "outputs": [],
   "source": [
    "trend_nexsts=regr.predict(np.array(range(25, 37)).reshape(12, 1))\n",
    "trend_nexsts=trend_nexsts.reshape(1, 12)[0]"
   ]
  },
  {
   "cell_type": "code",
   "execution_count": 183,
   "metadata": {},
   "outputs": [],
   "source": [
    "predict=pd.DataFrame({\"month\":range(1, 13), \"trend\":trend_nexsts})"
   ]
  },
  {
   "cell_type": "code",
   "execution_count": 220,
   "metadata": {},
   "outputs": [],
   "source": [
    "for ind in predict.index.values:\n",
    "    predict[\"price\"][ind]=(predict[\"trend\"][ind] * seazon_coeff[\"deviation\"][predict[\"month\"][ind]])\n",
    "predict[\"price\"]=predict[\"price\"].astype('int32')"
   ]
  },
  {
   "cell_type": "code",
   "execution_count": 223,
   "metadata": {},
   "outputs": [],
   "source": [
    "predict[\"real_price\"]=[ 256798898,\n",
    " 232640416,\n",
    " 267994924,\n",
    " 262849522,\n",
    " 276933049,\n",
    " 251486085,\n",
    " 250559778,\n",
    " 261724749,\n",
    " 276675505,\n",
    " 287647539,\n",
    " 363102609,\n",
    " 422386052]"
   ]
  },
  {
   "cell_type": "code",
   "execution_count": 248,
   "metadata": {},
   "outputs": [
    {
     "data": {
      "text/plain": [
       "0     288420639\n",
       "1     263562734\n",
       "2     322706935\n",
       "3     332834242\n",
       "4     297422997\n",
       "5     277143260\n",
       "6     266840682\n",
       "7     306149589\n",
       "8     317199478\n",
       "9     424605656\n",
       "10    496307011\n",
       "11    520870406\n",
       "Name: price, dtype: int32"
      ]
     },
     "execution_count": 248,
     "metadata": {},
     "output_type": "execute_result"
    }
   ],
   "source": [
    "predict[\"price\"]"
   ]
  },
  {
   "cell_type": "code",
   "execution_count": 249,
   "metadata": {},
   "outputs": [
    {
     "data": {
      "image/png": "[encoded data removed]",
      "text/plain": [
       "<Figure size 432x288 with 1 Axes>"
      ]
     },
     "metadata": {
      "needs_background": "light"
     },
     "output_type": "display_data"
    }
   ],
   "source": [
    "import calendar\n",
    "plt.plot(predict['month'], predict['price'],  color='black', label=\"predict\")\n",
    "plt.plot(predict['month'], predict['real_price'], color='blue', linewidth=3, label=\"real\")\n",
    "plt.plot(predict['month'], price_by_months.loc[price_by_months.year==2017, \"price\"], color='orange', label=\"2017\")\n",
    "plt.plot(predict['month'], price_by_months.loc[price_by_months.year==2016, \"price\"], color='red', label=\"2016\")\n",
    "\n",
    "plt.xticks(np.arange(12), calendar.month_name[1:13], rotation=20)\n",
    "plt.ticklabel_format(axis='y',style='plain',scilimits=(0,3))\n",
    "plt.legend()\n",
    "plt.show()"
   ]
  },
  {
   "cell_type": "code",
   "execution_count": null,
   "metadata": {},
   "outputs": [],
   "source": []
  }
 ],
 "metadata": {
  "kernelspec": {
   "display_name": "Python 3",
   "language": "python",
   "name": "python3"
  },
  "language_info": {
   "codemirror_mode": {
    "name": "ipython",
    "version": 3
   },
   "file_extension": ".py",
   "mimetype": "text/x-python",
   "name": "python",
   "nbconvert_exporter": "python",
   "pygments_lexer": "ipython3",
   "version": "3.7.1"
  }
 },
 "nbformat": 4,
 "nbformat_minor": 2
}
